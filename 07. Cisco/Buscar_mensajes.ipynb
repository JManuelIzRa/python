{
cells: [
{
cell_type: "code",
execution_count: 25,
metadata: {
id: "wyx2VFqWHTe7"
},
outputs: [
{
name: "stdout",
output_type: "stream",
text: [
"Requirement already satisfied: requests in c:\users\jmanu\appdata\local\programs\python\python310\lib\site-packages (2.27.1)
",
"Requirement already satisfied: idna<4,>=2.5 in c:\users\jmanu\appdata\local\programs\python\python310\lib\site-packages (from requests) (3.3)
",
"Requirement already satisfied: urllib3<1.27,>=1.21.1 in c:\users\jmanu\appdata\local\programs\python\python310\lib\site-packages (from requests) (1.26.9)
",
"Requirement already satisfied: charset-normalizer~=2.0.0 in c:\users\jmanu\appdata\local\programs\python\python310\lib\site-packages (from requests) (2.0.12)
",
"Requirement already satisfied: certifi>=2017.4.17 in c:\users\jmanu\appdata\local\programs\python\python310\lib\site-packages (from requests) (2021.10.8)
",
"Note: you may need to restart the kernel to use updated packages.
"
]
}
],
source: [
"pip install requests"
]
},
{
cell_type: "markdown",
metadata: {
id: "pRUUdYsUMBtg"
},
source: [
"**This program:**
",
"1. Asks the user for their access token or to use the hard-coded access token
",
"2. Displays a list of the user's Webex Teams rooms
",
"3. Asks the user to choose one of their rooms
",
"4. Asks the user to enter text of a message(s) for that room
",
"5. Displays all the messages in that room that contains that text
",
"
",
"**The student will:**
",
"1. Provide the code to prompt the user for their access token else use the hard-coded access token
",
"2. Enter the Webex Teams room API endpoint (URL)
",
"3. Add the following information regarding for each message:
",
"- From (email) 
",
"- Date/time message was created
",
"4. Add a message counter to:
",
"- If messages were found, display the number of messages found using this criteria
",
"- Else display a message stating no messages were found using this criteria.
",
"5. Display a message that verifies the room and text searched.
",
"
"
]
},
{
cell_type: "markdown",
metadata: {
id: "4bsHnmd5ibRZ"
},
source: [
"Import libraries"
]
},
{
cell_type: "code",
execution_count: 26,
metadata: {
id: "U1vfPR3KMD8D"
},
outputs: [ ],
source: [
"# import requests library
",
"import requests
",
"
",
"#import json library
",
"import json
",
"
",
"#import time library
",
"import time"
]
},
{
cell_type: "markdown",
metadata: {
id: "9ovRDBoFMTJe"
},
source: [
"Ask the user to use either the hard-coded token (access token within the code) or for the user to input their access token.
",
"
",
"Assign the hard-coded or user entered access token to the variable accessToken.
",
"
"
]
},
{
cell_type: "markdown",
metadata: {
id: "MAmqW9a1MZyQ"
},
source: [
"
",
"**Exercise 1.**
",
"Following this comment and using the access Token variable below, modify the code to ask the user to use either hard-coded or user-entered access token.
",
"
",
"
"
]
},
{
cell_type: "code",
execution_count: 27,
metadata: {
id: "hTXYx4CZMWQH"
},
outputs: [
{
data: {
text/plain: [
"'Bearer ZjI1MDkxYzYtMjQwMC00YTVmLWFkODEtMzdiYzcxMmQ2Mjk2M2VlOTNiMDAtOTA0_PE93_205195e3-62e4-48fc-840b-cdb6117315b4'"
]
},
execution_count: 27,
metadata: { },
output_type: "execute_result"
}
],
source: [
"#<!!!REPLACEME with code to ask user for the Webex Teams Access Token or use a hardcoded one!!!>
",
"choice = input("Do you wish to use the hard coded token? (Y/N)").upper()
",
"
",
"if choice == "N":
",
"    accessToken = input("Enter your access token: ")
",
"    accessToken = "Bearer " + accessToken
",
"else:
",
"    accessToken = "Bearer ZjI1MDkxYzYtMjQwMC00YTVmLWFkODEtMzdiYzcxMmQ2Mjk2M2VlOTNiMDAtOTA0_PE93_205195e3-62e4-48fc-840b-cdb6117315b4"
",
"
",
"accessToken"
]
},
{
cell_type: "markdown",
metadata: {
id: "cQo8m46BMi7h"
},
source: [
"Using the requests library, create a new HTTP GET Request against the Webex Teams API Endpoint for Webex Teams Rooms: the local object "r" will hold the returned data.
",
"
",
"
",
"**Exercise 2.** Modify the code below to use the Webex Teams room API endpoint (URL)"
]
},
{
cell_type: "code",
execution_count: 28,
metadata: {
id: "0dcdIffrMlOt"
},
outputs: [ ],
source: [
"resp = requests.get(   "https://webexapis.com/v1/rooms",
",
"                    headers = {"Authorization": accessToken}
",
"                )"
]
},
{
cell_type: "markdown",
metadata: {
id: "opg5i5HAjTwW"
},
source: [
"Check if the response from the API call was OK (resp. code 200)"
]
},
{
cell_type: "code",
execution_count: 29,
metadata: {
id: "MfHKhwGBjQ82"
},
outputs: [ ],
source: [
"if not resp.status_code == 200:
",
"    raise Exception("Incorrect reply from Webex Teams API. Status code: {}. Text: {}".format(resp.status_code, resp.text))"
]
},
{
cell_type: "markdown",
metadata: {
id: "3tvyPSuJjeQH"
},
source: [
"JSON data for Webex Teams Rooms"
]
},
{
cell_type: "code",
execution_count: 30,
metadata: {
id: "8zL4Q0PejhW6"
},
outputs: [
{
name: "stdout",
output_type: "stream",
text: [
"{
",
"    "items": [
",
"        {
",
"            "id": "Y2lzY29zcGFyazovL3VybjpURUFNOmV1LWNlbnRyYWwtMV9rL1JPT00vMGFmMjNkZjAtYzI1MS0xMWVjLWEyZmUtYTFlNjYwMWQyZThj",
",
"            "title": "Prueba_Creacion",
",
"            "type": "group",
",
"            "isLocked": false,
",
"            "lastActivity": "2022-04-22T15:29:47.343Z",
",
"            "creatorId": "Y2lzY29zcGFyazovL3VzL1BFT1BMRS9kOGQ0MDI3MC1jYjljLTQwMTMtYjY3MS05YWM5MzNiMGQyZDg",
",
"            "created": "2022-04-22T15:29:47.343Z",
",
"            "ownerId": "Y2lzY29zcGFyazovL3VzL09SR0FOSVpBVElPTi8yMDUxOTVlMy02MmU0LTQ4ZmMtODQwYi1jZGI2MTE3MzE1YjQ"
",
"        },
",
"        {
",
"            "id": "Y2lzY29zcGFyazovL3VybjpURUFNOmV1LWNlbnRyYWwtMV9rL1JPT00vY2I0MTZiZjAtYzI0Zi0xMWVjLThmZmMtNWQyMmJlNDIyOTUx",
",
"            "title": "CCNA3_IZRA",
",
"            "type": "group",
",
"            "isLocked": false,
",
"            "lastActivity": "2022-04-22T15:51:06.814Z",
",
"            "creatorId": "Y2lzY29zcGFyazovL3VzL1BFT1BMRS9kOGQ0MDI3MC1jYjljLTQwMTMtYjY3MS05YWM5MzNiMGQyZDg",
",
"            "created": "2022-04-22T15:20:50.991Z",
",
"            "ownerId": "Y2lzY29zcGFyazovL3VzL09SR0FOSVpBVElPTi8yMDUxOTVlMy02MmU0LTQ4ZmMtODQwYi1jZGI2MTE3MzE1YjQ"
",
"        },
",
"        {
",
"            "id": "Y2lzY29zcGFyazovL3VybjpURUFNOmV1LWNlbnRyYWwtMV9rL1JPT00vY2E1MjAyZTAtYzI0Zi0xMWVjLThmZmMtNWQyMmJlNDIyOTUx",
",
"            "title": "CNNA3",
",
"            "type": "group",
",
"            "isLocked": false,
",
"            "lastActivity": "2022-04-22T15:22:14.493Z",
",
"            "creatorId": "Y2lzY29zcGFyazovL3VzL1BFT1BMRS9jOTIyZTNmOC04ZGVkLTRlNmUtYTVhNC0xNDlmNWQ4ZDM0ZGU",
",
"            "created": "2022-04-22T15:20:49.422Z",
",
"            "ownerId": "Y2lzY29zcGFyazovL3VzL09SR0FOSVpBVElPTi8zM2Q2OWY3NC1hOWM5LTQxYmUtODBiYS03ZmJjYTVjYmVkYzg"
",
"        },
",
"        {
",
"            "id": "Y2lzY29zcGFyazovL3VybjpURUFNOmV1LWNlbnRyYWwtMV9rL1JPT00vYzk5MTRhZjAtYzI0Zi0xMWVjLTgyMzItOTdhY2ZlY2ZlYTFk",
",
"            "title": "TekeTeka",
",
"            "type": "group",
",
"            "isLocked": false,
",
"            "lastActivity": "2022-04-22T15:31:56.644Z",
",
"            "creatorId": "Y2lzY29zcGFyazovL3VzL1BFT1BMRS8xZjA0ZDUyNi1mYTc0LTQ2NWEtYjAzMC02YWJhYjU2ZGFjNWU",
",
"            "created": "2022-04-22T15:20:48.159Z",
",
"            "ownerId": "Y2lzY29zcGFyazovL3VzL09SR0FOSVpBVElPTi8yMDUxOTVlMy02MmU0LTQ4ZmMtODQwYi1jZGI2MTE3MzE1YjQ"
",
"        },
",
"        {
",
"            "id": "Y2lzY29zcGFyazovL3VybjpURUFNOmV1LWNlbnRyYWwtMV9rL1JPT00vYzY3ZmM1MzAtYzI0Zi0xMWVjLTliNDMtMjdiMWIxYjg1ZTY3",
",
"            "title": "Sala Prueba",
",
"            "type": "group",
",
"            "isLocked": false,
",
"            "lastActivity": "2022-04-22T15:22:08.851Z",
",
"            "creatorId": "Y2lzY29zcGFyazovL3VzL1BFT1BMRS8xYmMyNDFhNi0zN2EyLTQ1N2MtYjNlZi01ZWVhYTk3MjcyNjc",
",
"            "created": "2022-04-22T15:20:43.011Z",
",
"            "ownerId": "Y2lzY29zcGFyazovL3VzL09SR0FOSVpBVElPTi9kMTgyMzRmOC04MDhmLTQ3YzAtODZkMC04YzIyZjJhMDQ3ZjA"
",
"        },
",
"        {
",
"            "id": "Y2lzY29zcGFyazovL3VybjpURUFNOmV1LWNlbnRyYWwtMV9rL1JPT00vNjkyZGZmZjAtYzI0Zi0xMWVjLWJhYjItNWJjZTYzMjZlOWQz",
",
"            "title": "Antonio Llamas Garc\u00eda",
",
"            "type": "direct",
",
"            "isLocked": false,
",
"            "lastActivity": "2022-04-22T15:18:06.447Z",
",
"            "creatorId": "Y2lzY29zcGFyazovL3VzL1BFT1BMRS9kOGQ0MDI3MC1jYjljLTQwMTMtYjY3MS05YWM5MzNiMGQyZDg",
",
"            "created": "2022-04-22T15:18:06.447Z",
",
"            "ownerId": "Y2lzY29zcGFyazovL3VzL09SR0FOSVpBVElPTi8yMDUxOTVlMy02MmU0LTQ4ZmMtODQwYi1jZGI2MTE3MzE1YjQ"
",
"        },
",
"        {
",
"            "id": "Y2lzY29zcGFyazovL3VybjpURUFNOmV1LWNlbnRyYWwtMV9rL1JPT00vNTNjMjI0YzAtYzI0Zi0xMWVjLWEzMmYtMmZlNDExNGM5NjM2",
",
"            "title": "Valent\u00edn",
",
"            "type": "direct",
",
"            "isLocked": false,
",
"            "lastActivity": "2022-04-22T15:17:30.508Z",
",
"            "creatorId": "Y2lzY29zcGFyazovL3VzL1BFT1BMRS8xODQ4NWIyYy01MjBkLTQ3NmQtYjAyZS02NTk0OWY1MzhmZTU",
",
"            "created": "2022-04-22T15:17:30.508Z"
",
"        },
",
"        {
",
"            "id": "Y2lzY29zcGFyazovL3VybjpURUFNOmV1LWNlbnRyYWwtMV9rL1JPT00vNDdlMTVmNDAtYzI0Zi0xMWVjLWFjNDQtZTk1MGE1NDNkNmMx",
",
"            "title": "i72gogia@uco.es",
",
"            "type": "direct",
",
"            "isLocked": false,
",
"            "lastActivity": "2022-04-22T15:18:21.209Z",
",
"            "creatorId": "Y2lzY29zcGFyazovL3VzL1BFT1BMRS9kOGQ0MDI3MC1jYjljLTQwMTMtYjY3MS05YWM5MzNiMGQyZDg",
",
"            "created": "2022-04-22T15:17:10.580Z"
",
"        },
",
"        {
",
"            "id": "Y2lzY29zcGFyazovL3VybjpURUFNOmV1LWNlbnRyYWwtMV9rL1JPT00vMGVlY2Q2MTAtYzI0Zi0xMWVjLWFjNDQtZTk1MGE1NDNkNmMx",
",
"            "title": "Rafael Hormigo",
",
"            "type": "direct",
",
"            "isLocked": false,
",
"            "lastActivity": "2022-04-22T15:16:57.751Z",
",
"            "creatorId": "Y2lzY29zcGFyazovL3VzL1BFT1BMRS9kOGQ0MDI3MC1jYjljLTQwMTMtYjY3MS05YWM5MzNiMGQyZDg",
",
"            "created": "2022-04-22T15:15:35.025Z"
",
"        },
",
"        {
",
"            "id": "Y2lzY29zcGFyazovL3VybjpURUFNOmV1LWNlbnRyYWwtMV9rL1JPT00vNWMwZTM2NTAtYzI0NS0xMWVjLWE3NDUtNDkzZDI4MzMzNDEx",
",
"            "title": "Espacio de bienvenida",
",
"            "type": "group",
",
"            "isLocked": false,
",
"            "lastActivity": "2022-04-22T14:06:09.884Z",
",
"            "creatorId": "Y2lzY29zcGFyazovL3VzL1BFT1BMRS9kOGQ0MDI3MC1jYjljLTQwMTMtYjY3MS05YWM5MzNiMGQyZDg",
",
"            "created": "2022-04-22T14:06:09.461Z",
",
"            "ownerId": "Y2lzY29zcGFyazovL3VzL09SR0FOSVpBVElPTi8yMDUxOTVlMy02MmU0LTQ4ZmMtODQwYi1jZGI2MTE3MzE1YjQ"
",
"        }
",
"    ]
",
"}
"
]
}
],
source: [
"jsonData = resp.json()
",
"
",
"print(
",
"    json.dumps(
",
"        jsonData,
",
"        indent=4
",
"    )
",
")"
]
},
{
cell_type: "markdown",
metadata: {
id: "Fg9jB4y5lUNO"
},
source: [
"Displays a list of rooms.
",
"
",
"If you want to see additional key/value pairs such as roomID:
",
"print ("Room name: '" + room["title"] + "' room ID: " + room["id"])"
]
},
{
cell_type: "code",
execution_count: 31,
metadata: {
id: "HueZAmyQlbAV"
},
outputs: [
{
name: "stdout",
output_type: "stream",
text: [
"List of rooms:
",
"Prueba_Creacion
",
"CCNA3_IZRA
",
"CNNA3
",
"TekeTeka
",
"Sala Prueba
",
"Antonio Llamas García
",
"Valentín
",
"i72gogia@uco.es
",
"Rafael Hormigo
",
"Espacio de bienvenida
"
]
}
],
source: [
"print("List of rooms:")
",
"rooms = resp.json()["items"]
",
"for room in rooms:
",
"    print (room["title"])"
]
},
{
cell_type: "markdown",
metadata: {
id: "Ail747eelbmR"
},
source: [
"Searches for name of the room and displays the room"
]
},
{
cell_type: "code",
execution_count: 32,
metadata: {
id: "SDez6xoTldGj"
},
outputs: [
{
name: "stdout",
output_type: "stream",
text: [
"Found rooms with the word CCNA3_IZRA
",
"CCNA3_IZRA
",
"Found room : CCNA3_IZRA
"
]
}
],
source: [
"while True:
",
"    # Input the name of the room to be searched 
",
"    roomNameToSearch = input("Which room are you looking for? (Can use partial name of the room.) ")
",
"
",
"    # Defines a variable that will hold the roomId 
",
"    roomIdToGetMessages = None
",
"    
",
"    for room in rooms:
",
"        # Searches for the room "title" using the variable roomNameToSearch 
",
"        if(room["title"].find(roomNameToSearch) != -1):
",
"
",
"            # Displays the rooms found using the variable roomNameToSearch (additional options included)
",
"            print ("Found rooms with the word " + roomNameToSearch)
",
"            print(room["title"])
",
"
",
"            # Stores room id and room title into variables
",
"            roomIdToGetMessages = room["id"]
",
"            roomTitleToGetMessages = room["title"]
",
"            print("Found room : " + roomTitleToGetMessages)
",
"            break
",
"
",
"    if(roomIdToGetMessages == None):
",
"        print("Sorry, I didn't find any room with " + roomNameToSearch + " in it.")
",
"        print("Please try again...")
",
"    else:
",
"        break
"
]
},
{
cell_type: "markdown",
metadata: {
id: "jJiD7Q9Xlf6L"
},
source: [
"Define the mandatory or optional GET parameters for the `messages` API endpoint max is the number of messages to be displayed"
]
},
{
cell_type: "code",
execution_count: 33,
metadata: {
id: "vZ7YbYbOljvK"
},
outputs: [ ],
source: [
"getMessagesUrlParameters = {
",
"            # mandatory parameter - the room ID
",
"            "roomId": roomIdToGetMessages,
",
"            # optional parameter - number of the last messages to return
",
"            "max": 50
",
"}"
]
},
{
cell_type: "markdown",
metadata: {
id: "9YlhXflkllSf"
},
source: [
"Using the requests library, create a new HTTP GET Request against the Webex Teams API Endpoint for Webex Teams Messages. The local object "r" will hold the returned data.
"
]
},
{
cell_type: "code",
execution_count: 34,
metadata: {
id: "0HczrFzbln0Q"
},
outputs: [ ],
source: [
"resp = requests.get(   "https://api.ciscospark.com/v1/messages",
",
"                    params = getMessagesUrlParameters,
",
"                    headers = {"Authorization": accessToken}
",
"                )
",
"
",
"if not resp.status_code == 200:
",
"    raise Exception("Incorrect reply from Webex Teams API. Status code: {}. Text: {}".format(resp.status_code, resp.text))"
]
},
{
cell_type: "markdown",
metadata: {
id: "b7uBcvDzlppQ"
},
source: [
"Data is converted to JSON format and held in jsonData"
]
},
{
cell_type: "code",
execution_count: 35,
metadata: {
id: "DJEdNololriM"
},
outputs: [ ],
source: [
"jsonData = resp.json()"
]
},
{
cell_type: "markdown",
metadata: {
id: "w6nOF5otlvSZ"
},
source: [
"To see what is in the JSON data"
]
},
{
cell_type: "code",
execution_count: 36,
metadata: {
id: "cJZVxNWIlxU7"
},
outputs: [
{
name: "stdout",
output_type: "stream",
text: [
"{
",
"    "items": [
",
"        {
",
"            "id": "Y2lzY29zcGFyazovL3VybjpURUFNOmV1LWNlbnRyYWwtMV9rL01FU1NBR0UvMDU5MjA1ZTAtYzI1NC0xMWVjLWE3NDUtNDkzZDI4MzMzNDEx",
",
"            "roomId": "Y2lzY29zcGFyazovL3VybjpURUFNOmV1LWNlbnRyYWwtMV9rL1JPT00vY2I0MTZiZjAtYzI0Zi0xMWVjLThmZmMtNWQyMmJlNDIyOTUx",
",
"            "roomType": "group",
",
"            "text": "Chapas mucho",
",
"            "personId": "Y2lzY29zcGFyazovL3VzL1BFT1BMRS8xODQ4NWIyYy01MjBkLTQ3NmQtYjAyZS02NTk0OWY1MzhmZTU",
",
"            "personEmail": "p92avavv@uco.es",
",
"            "created": "2022-04-22T15:51:06.814Z"
",
"        },
",
"        {
",
"            "id": "Y2lzY29zcGFyazovL3VybjpURUFNOmV1LWNlbnRyYWwtMV9rL01FU1NBR0UvZmZiYzMwMDAtYzI1My0xMWVjLTlhMzgtMjdhY2QzZjNiMzJi",
",
"            "roomId": "Y2lzY29zcGFyazovL3VybjpURUFNOmV1LWNlbnRyYWwtMV9rL1JPT00vY2I0MTZiZjAtYzI0Zi0xMWVjLThmZmMtNWQyMmJlNDIyOTUx",
",
"            "roomType": "group",
",
"            "text": "hola",
",
"            "personId": "Y2lzY29zcGFyazovL3VzL1BFT1BMRS9kOGQ0MDI3MC1jYjljLTQwMTMtYjY3MS05YWM5MzNiMGQyZDg",
",
"            "personEmail": "p82izraj@uco.es",
",
"            "created": "2022-04-22T15:50:57.024Z"
",
"        },
",
"        {
",
"            "id": "Y2lzY29zcGFyazovL3VybjpURUFNOmV1LWNlbnRyYWwtMV9rL01FU1NBR0UvZmY0NTJiNDAtYzI1My0xMWVjLWEzMmYtMmZlNDExNGM5NjM2",
",
"            "roomId": "Y2lzY29zcGFyazovL3VybjpURUFNOmV1LWNlbnRyYWwtMV9rL1JPT00vY2I0MTZiZjAtYzI0Zi0xMWVjLThmZmMtNWQyMmJlNDIyOTUx",
",
"            "roomType": "group",
",
"            "text": "hola",
",
"            "personId": "Y2lzY29zcGFyazovL3VzL1BFT1BMRS9kOGQ0MDI3MC1jYjljLTQwMTMtYjY3MS05YWM5MzNiMGQyZDg",
",
"            "personEmail": "p82izraj@uco.es",
",
"            "created": "2022-04-22T15:50:56.244Z"
",
"        },
",
"        {
",
"            "id": "Y2lzY29zcGFyazovL3VybjpURUFNOmV1LWNlbnRyYWwtMV9rL01FU1NBR0UvZmViODA2NzAtYzI1My0xMWVjLWJhYjItNWJjZTYzMjZlOWQz",
",
"            "roomId": "Y2lzY29zcGFyazovL3VybjpURUFNOmV1LWNlbnRyYWwtMV9rL1JPT00vY2I0MTZiZjAtYzI0Zi0xMWVjLThmZmMtNWQyMmJlNDIyOTUx",
",
"            "roomType": "group",
",
"            "text": "hola",
",
"            "personId": "Y2lzY29zcGFyazovL3VzL1BFT1BMRS9kOGQ0MDI3MC1jYjljLTQwMTMtYjY3MS05YWM5MzNiMGQyZDg",
",
"            "personEmail": "p82izraj@uco.es",
",
"            "created": "2022-04-22T15:50:55.319Z"
",
"        },
",
"        {
",
"            "id": "Y2lzY29zcGFyazovL3VybjpURUFNOmV1LWNlbnRyYWwtMV9rL01FU1NBR0UvZmUzMjViYjAtYzI1My0xMWVjLWEzMmYtMmZlNDExNGM5NjM2",
",
"            "roomId": "Y2lzY29zcGFyazovL3VybjpURUFNOmV1LWNlbnRyYWwtMV9rL1JPT00vY2I0MTZiZjAtYzI0Zi0xMWVjLThmZmMtNWQyMmJlNDIyOTUx",
",
"            "roomType": "group",
",
"            "text": "hola",
",
"            "personId": "Y2lzY29zcGFyazovL3VzL1BFT1BMRS9kOGQ0MDI3MC1jYjljLTQwMTMtYjY3MS05YWM5MzNiMGQyZDg",
",
"            "personEmail": "p82izraj@uco.es",
",
"            "created": "2022-04-22T15:50:54.443Z"
",
"        },
",
"        {
",
"            "id": "Y2lzY29zcGFyazovL3VybjpURUFNOmV1LWNlbnRyYWwtMV9rL01FU1NBR0UvZmRiNzg2NjAtYzI1My0xMWVjLWFlMGEtMDE1MDAzM2M1NjI4",
",
"            "roomId": "Y2lzY29zcGFyazovL3VybjpURUFNOmV1LWNlbnRyYWwtMV9rL1JPT00vY2I0MTZiZjAtYzI0Zi0xMWVjLThmZmMtNWQyMmJlNDIyOTUx",
",
"            "roomType": "group",
",
"            "text": "hola",
",
"            "personId": "Y2lzY29zcGFyazovL3VzL1BFT1BMRS9kOGQ0MDI3MC1jYjljLTQwMTMtYjY3MS05YWM5MzNiMGQyZDg",
",
"            "personEmail": "p82izraj@uco.es",
",
"            "created": "2022-04-22T15:50:53.638Z"
",
"        },
",
"        {
",
"            "id": "Y2lzY29zcGFyazovL3VybjpURUFNOmV1LWNlbnRyYWwtMV9rL01FU1NBR0UvMWY2ZmI2ZjAtYzI1MC0xMWVjLTkxNDAtY2ZmNTI4NDliMjlk",
",
"            "roomId": "Y2lzY29zcGFyazovL3VybjpURUFNOmV1LWNlbnRyYWwtMV9rL1JPT00vY2I0MTZiZjAtYzI0Zi0xMWVjLThmZmMtNWQyMmJlNDIyOTUx",
",
"            "roomType": "group",
",
"            "text": "eeeee",
",
"            "personId": "Y2lzY29zcGFyazovL3VzL1BFT1BMRS8xZjA0ZDUyNi1mYTc0LTQ2NWEtYjAzMC02YWJhYjU2ZGFjNWU",
",
"            "personEmail": "i92llgaa@uco.es",
",
"            "created": "2022-04-22T15:23:12.223Z"
",
"        },
",
"        {
",
"            "id": "Y2lzY29zcGFyazovL3VybjpURUFNOmV1LWNlbnRyYWwtMV9rL01FU1NBR0UvMDg1NGE1MjAtYzI1MC0xMWVjLThhODMtODM1MWE5Zjc1Y2E1",
",
"            "roomId": "Y2lzY29zcGFyazovL3VybjpURUFNOmV1LWNlbnRyYWwtMV9rL1JPT00vY2I0MTZiZjAtYzI0Zi0xMWVjLThmZmMtNWQyMmJlNDIyOTUx",
",
"            "roomType": "group",
",
"            "text": "xd",
",
"            "personId": "Y2lzY29zcGFyazovL3VzL1BFT1BMRS9jOTIyZTNmOC04ZGVkLTRlNmUtYTVhNC0xNDlmNWQ4ZDM0ZGU",
",
"            "personEmail": "i72hocar@uco.es",
",
"            "created": "2022-04-22T15:22:33.458Z"
",
"        },
",
"        {
",
"            "id": "Y2lzY29zcGFyazovL3VybjpURUFNOmV1LWNlbnRyYWwtMV9rL01FU1NBR0UvMDcxYTc3NzAtYzI1MC0xMWVjLThmZmMtNWQyMmJlNDIyOTUx",
",
"            "roomId": "Y2lzY29zcGFyazovL3VybjpURUFNOmV1LWNlbnRyYWwtMV9rL1JPT00vY2I0MTZiZjAtYzI0Zi0xMWVjLThmZmMtNWQyMmJlNDIyOTUx",
",
"            "roomType": "group",
",
"            "text": "hola que tal",
",
"            "personId": "Y2lzY29zcGFyazovL3VzL1BFT1BMRS9jOTIyZTNmOC04ZGVkLTRlNmUtYTVhNC0xNDlmNWQ4ZDM0ZGU",
",
"            "personEmail": "i72hocar@uco.es",
",
"            "created": "2022-04-22T15:22:31.399Z"
",
"        },
",
"        {
",
"            "id": "Y2lzY29zcGFyazovL3VybjpURUFNOmV1LWNlbnRyYWwtMV9rL01FU1NBR0UvMDUxMGM0YzAtYzI1MC0xMWVjLWE2ZWEtZDNkOWNiZGM3YmU4",
",
"            "roomId": "Y2lzY29zcGFyazovL3VybjpURUFNOmV1LWNlbnRyYWwtMV9rL1JPT00vY2I0MTZiZjAtYzI0Zi0xMWVjLThmZmMtNWQyMmJlNDIyOTUx",
",
"            "roomType": "group",
",
"            "text": "Faltan mensajes",
",
"            "personId": "Y2lzY29zcGFyazovL3VzL1BFT1BMRS8xYmMyNDFhNi0zN2EyLTQ1N2MtYjNlZi01ZWVhYTk3MjcyNjc",
",
"            "personEmail": "i72gogia@uco.es",
",
"            "created": "2022-04-22T15:22:27.980Z"
",
"        }
",
"    ]
",
"}
"
]
}
],
source: [
"print(
",
"    json.dumps(
",
"        jsonData,
",
"        indent=4
",
"    )
",
")"
]
},
{
cell_type: "markdown",
metadata: {
id: "gL4_tVAflz-d"
},
source: [
"Add a message counter and initialize the variable to 0
",
"- If messages were found, display the number of messages found using this criteria
",
"- Else display a message stating no messages were found using these criteria.
",
"
",
"Search for message text and display:
",
"- Message text
",
"
",
"Add the following information regarding for each message:
",
"- From (email) 
",
"- Date/time message created"
]
},
{
cell_type: "code",
execution_count: 37,
metadata: {
id: "ftLtZwe6l7uo"
},
outputs: [
{
name: "stdout",
output_type: "stream",
text: [
"Found a message with: hola
",
"Message: hola
",
"Email: p82izraj@uco.es
",
"Date/time: 2022-04-22T15:50:57.024Z
",
"
",
"Found a message with: hola
",
"Message: hola
",
"Email: p82izraj@uco.es
",
"Date/time: 2022-04-22T15:50:56.244Z
",
"
",
"Found a message with: hola
",
"Message: hola
",
"Email: p82izraj@uco.es
",
"Date/time: 2022-04-22T15:50:55.319Z
",
"
",
"Found a message with: hola
",
"Message: hola
",
"Email: p82izraj@uco.es
",
"Date/time: 2022-04-22T15:50:54.443Z
",
"
",
"Found a message with: hola
",
"Message: hola
",
"Email: p82izraj@uco.es
",
"Date/time: 2022-04-22T15:50:53.638Z
",
"
",
"Found a message with: hola
",
"Message: hola que tal
",
"Email: i72hocar@uco.es
",
"Date/time: 2022-04-22T15:22:31.399Z
",
"
"
]
}
],
source: [
"messages = jsonData["items"]
",
"messageText = input("What text are you searching for? ")
",
"# Exercise 3a: Following this comment, create a variable for a message counter
",
"# and initialize it to 0.
",
"#<!!!REPLACEME with a messageCounter variable set to 0 !!!>
",
"messageCounter = 0
",
"
",
"for message in messages:
",
"    if message["text"].find(messageText) != -1:
",
"        # Exercise 3b: Following this comment, increment message counter variable by 1
",
"        #<!!!REPLACEME with incrementing the messageCounter by one!!!>
",
"        messageCounter += 1
",
"        
",
"        messageId = message["id"]
",
"        print("Found a message with: " + messageText)
",
"        print("Message: " + message["text"])
",
"        # Exercise #4: Following this comment, display email address of the message 
",
"        # creator and the date/time the message was created
",
"        print("Email: " + message["personEmail"])
",
"        print("Date/time: " + message["created"])
",
"        print()
",
"  "
]
},
{
cell_type: "markdown",
metadata: {
id: "Of00xkd7Cybr"
},
source: [
"**Exercise 5**:
",
"Following these comments: 
",
"Add if-else statements to display message counter information
",
"- If no messages were found using this criteria (if messageCounter is 0) display a message that informs the uses of this
",
"- Else display a message with the number of messages found (messageCounter) using this criteria
"
]
},
{
cell_type: "code",
execution_count: 38,
metadata: {
id: "Mt15k5j6CzA1"
},
outputs: [
{
name: "stdout",
output_type: "stream",
text: [
"Se ha encontrado el mensaje 6 veces
",
"Thank you for using this program and think API + Python!
"
]
}
],
source: [
"#<!!!REPLACEME with if statements checking for messageCounter value!!!>
",
"#    <!!!REPLACEME with print function printing the number of found messages!!!>
",
"if messageCounter == 0:
",
"    print("No se ha encontrado el mensaje.")
",
"else:
",
"    print(f"Se ha encontrado el mensaje {messageCounter} veces")
",
"
",
"
",
"print("Thank you for using this program and think API + Python!")
"
]
}
],
metadata: {
colab: {
collapsed_sections: [ ],
name: "Buscar-mensajes.ipynb",
provenance: [ ]
},
kernelspec: {
display_name: "Python 3.8.10 64-bit (microsoft store)",
language: "python",
name: "python3"
},
language_info: {
codemirror_mode: {
name: "ipython",
version: 3
},
file_extension: ".py",
mimetype: "text/x-python",
name: "python",
nbconvert_exporter: "python",
pygments_lexer: "ipython3",
version: "3.8.10"
},
vscode: {
interpreter: {
hash: "c85cc760b60e9a7bc7f14a026c0b6e827850110f81d5bb7cd18566f98e99e23e"
}
}
},
nbformat: 4,
nbformat_minor: 0
}
