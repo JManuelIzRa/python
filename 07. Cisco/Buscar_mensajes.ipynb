{
  "cells": [
    {
      "cell_type": "code",
      "execution_count": 25,
      "metadata": {
        "id": "wyx2VFqWHTe7"
      },
      "outputs": [
        {
          "name": "stdout",
          "output_type": "stream",
          "text": [
            "Requirement already satisfied: requests in c:\\users\\jmanu\\appdata\\local\\programs\\python\\python310\\lib\\site-packages (2.27.1)\n",
            "Requirement already satisfied: idna<4,>=2.5 in c:\\users\\jmanu\\appdata\\local\\programs\\python\\python310\\lib\\site-packages (from requests) (3.3)\n",
            "Requirement already satisfied: urllib3<1.27,>=1.21.1 in c:\\users\\jmanu\\appdata\\local\\programs\\python\\python310\\lib\\site-packages (from requests) (1.26.9)\n",
            "Requirement already satisfied: charset-normalizer~=2.0.0 in c:\\users\\jmanu\\appdata\\local\\programs\\python\\python310\\lib\\site-packages (from requests) (2.0.12)\n",
            "Requirement already satisfied: certifi>=2017.4.17 in c:\\users\\jmanu\\appdata\\local\\programs\\python\\python310\\lib\\site-packages (from requests) (2021.10.8)\n",
            "Note: you may need to restart the kernel to use updated packages.\n"
          ]
        }
      ],
      "source": [
        "pip install requests"
      ]
    },
    {
      "cell_type": "markdown",
      "metadata": {
        "id": "pRUUdYsUMBtg"
      },
      "source": [
        "**This program:**\n",
        "1. Asks the user for their access token or to use the hard-coded access token\n",
        "2. Displays a list of the user's Webex Teams rooms\n",
        "3. Asks the user to choose one of their rooms\n",
        "4. Asks the user to enter text of a message(s) for that room\n",
        "5. Displays all the messages in that room that contains that text\n",
        "\n",
        "**The student will:**\n",
        "1. Provide the code to prompt the user for their access token else use the hard-coded access token\n",
        "2. Enter the Webex Teams room API endpoint (URL)\n",
        "3. Add the following information regarding for each message:\n",
        "- From (email) \n",
        "- Date/time message was created\n",
        "4. Add a message counter to:\n",
        "- If messages were found, display the number of messages found using this criteria\n",
        "- Else display a message stating no messages were found using this criteria.\n",
        "5. Display a message that verifies the room and text searched.\n",
        "\n"
      ]
    },
    {
      "cell_type": "markdown",
      "metadata": {
        "id": "4bsHnmd5ibRZ"
      },
      "source": [
        "Import libraries"
      ]
    },
    {
      "cell_type": "code",
      "execution_count": 26,
      "metadata": {
        "id": "U1vfPR3KMD8D"
      },
      "outputs": [],
      "source": [
        "# import requests library\n",
        "import requests\n",
        "\n",
        "#import json library\n",
        "import json\n",
        "\n",
        "#import time library\n",
        "import time"
      ]
    },
    {
      "cell_type": "markdown",
      "metadata": {
        "id": "9ovRDBoFMTJe"
      },
      "source": [
        "Ask the user to use either the hard-coded token (access token within the code) or for the user to input their access token.\n",
        "\n",
        "Assign the hard-coded or user entered access token to the variable accessToken.\n",
        "\n"
      ]
    },
    {
      "cell_type": "markdown",
      "metadata": {
        "id": "MAmqW9a1MZyQ"
      },
      "source": [
        "\n",
        "**Exercise 1.**\n",
        "Following this comment and using the access Token variable below, modify the code to ask the user to use either hard-coded or user-entered access token.\n",
        "\n",
        "\n"
      ]
    },
    {
      "cell_type": "code",
      "execution_count": 27,
      "metadata": {
        "id": "hTXYx4CZMWQH"
      },
      "outputs": [
        {
          "data": {
            "text/plain": [
              "${{ secrets.CISCO_API }}"
            ]
          },
          "execution_count": 27,
          "metadata": {},
          "output_type": "execute_result"
        }
      ],
      "source": [
        "#<!!!REPLACEME with code to ask user for the Webex Teams Access Token or use a hardcoded one!!!>\n",
        "choice = input(\"Do you wish to use the hard coded token? (Y/N)\").upper()\n",
        "\n",
        "if choice == \"N\":\n",
        "    accessToken = input(\"Enter your access token: \")\n",
        "    accessToken = \"Bearer \" + accessToken\n",
        "else:\n",
        "    accessToken = \${{ secrets.CISCO_API }}\n",
        "\n",
        "accessToken"
      ]
    },
    {
      "cell_type": "markdown",
      "metadata": {
        "id": "cQo8m46BMi7h"
      },
      "source": [
        "Using the requests library, create a new HTTP GET Request against the Webex Teams API Endpoint for Webex Teams Rooms: the local object \"r\" will hold the returned data.\n",
        "\n",
        "\n",
        "**Exercise 2.** Modify the code below to use the Webex Teams room API endpoint (URL)"
      ]
    },
    {
      "cell_type": "code",
      "execution_count": 28,
      "metadata": {
        "id": "0dcdIffrMlOt"
      },
      "outputs": [],
      "source": [
        "resp = requests.get(   \"https://webexapis.com/v1/rooms\",\n",
        "                    headers = {\"Authorization\": accessToken}\n",
        "                )"
      ]
    },
    {
      "cell_type": "markdown",
      "metadata": {
        "id": "opg5i5HAjTwW"
      },
      "source": [
        "Check if the response from the API call was OK (resp. code 200)"
      ]
    },
    {
      "cell_type": "code",
      "execution_count": 29,
      "metadata": {
        "id": "MfHKhwGBjQ82"
      },
      "outputs": [],
      "source": [
        "if not resp.status_code == 200:\n",
        "    raise Exception(\"Incorrect reply from Webex Teams API. Status code: {}. Text: {}\".format(resp.status_code, resp.text))"
      ]
    },
    {
      "cell_type": "markdown",
      "metadata": {
        "id": "3tvyPSuJjeQH"
      },
      "source": [
        "JSON data for Webex Teams Rooms"
      ]
    },
    {
      "cell_type": "code",
      "execution_count": 30,
      "metadata": {
        "id": "8zL4Q0PejhW6"
      },
      "outputs": [
        {
          "name": "stdout",
          "output_type": "stream",
          "text": [
            "{\n",
            "    \"items\": [\n",
            "        {\n",
            "            \"id\": \"Y2lzY29zcGFyazovL3VybjpURUFNOmV1LWNlbnRyYWwtMV9rL1JPT00vMGFmMjNkZjAtYzI1MS0xMWVjLWEyZmUtYTFlNjYwMWQyZThj\",\n",
            "            \"title\": \"Prueba_Creacion\",\n",
            "            \"type\": \"group\",\n",
            "            \"isLocked\": false,\n",
            "            \"lastActivity\": \"2022-04-22T15:29:47.343Z\",\n",
            "            \"creatorId\": \"Y2lzY29zcGFyazovL3VzL1BFT1BMRS9kOGQ0MDI3MC1jYjljLTQwMTMtYjY3MS05YWM5MzNiMGQyZDg\",\n",
            "            \"created\": \"2022-04-22T15:29:47.343Z\",\n",
            "            \"ownerId\": \"Y2lzY29zcGFyazovL3VzL09SR0FOSVpBVElPTi8yMDUxOTVlMy02MmU0LTQ4ZmMtODQwYi1jZGI2MTE3MzE1YjQ\"\n",
            "        },\n",
            "        {\n",
            "            \"id\": \"Y2lzY29zcGFyazovL3VybjpURUFNOmV1LWNlbnRyYWwtMV9rL1JPT00vY2I0MTZiZjAtYzI0Zi0xMWVjLThmZmMtNWQyMmJlNDIyOTUx\",\n",
            "            \"title\": \"CCNA3_IZRA\",\n",
            "            \"type\": \"group\",\n",
            "            \"isLocked\": false,\n",
            "            \"lastActivity\": \"2022-04-22T15:51:06.814Z\",\n",
            "            \"creatorId\": \"Y2lzY29zcGFyazovL3VzL1BFT1BMRS9kOGQ0MDI3MC1jYjljLTQwMTMtYjY3MS05YWM5MzNiMGQyZDg\",\n",
            "            \"created\": \"2022-04-22T15:20:50.991Z\",\n",
            "            \"ownerId\": \"Y2lzY29zcGFyazovL3VzL09SR0FOSVpBVElPTi8yMDUxOTVlMy02MmU0LTQ4ZmMtODQwYi1jZGI2MTE3MzE1YjQ\"\n",
            "        },\n",
            "        {\n",
            "            \"id\": \"Y2lzY29zcGFyazovL3VybjpURUFNOmV1LWNlbnRyYWwtMV9rL1JPT00vY2E1MjAyZTAtYzI0Zi0xMWVjLThmZmMtNWQyMmJlNDIyOTUx\",\n",
            "            \"title\": \"CNNA3\",\n",
            "            \"type\": \"group\",\n",
            "            \"isLocked\": false,\n",
            "            \"lastActivity\": \"2022-04-22T15:22:14.493Z\",\n",
            "            \"creatorId\": \"Y2lzY29zcGFyazovL3VzL1BFT1BMRS9jOTIyZTNmOC04ZGVkLTRlNmUtYTVhNC0xNDlmNWQ4ZDM0ZGU\",\n",
            "            \"created\": \"2022-04-22T15:20:49.422Z\",\n",
            "            \"ownerId\": \"Y2lzY29zcGFyazovL3VzL09SR0FOSVpBVElPTi8zM2Q2OWY3NC1hOWM5LTQxYmUtODBiYS03ZmJjYTVjYmVkYzg\"\n",
            "        },\n",
            "        {\n",
            "            \"id\": \"Y2lzY29zcGFyazovL3VybjpURUFNOmV1LWNlbnRyYWwtMV9rL1JPT00vYzk5MTRhZjAtYzI0Zi0xMWVjLTgyMzItOTdhY2ZlY2ZlYTFk\",\n",
            "            \"title\": \"TekeTeka\",\n",
            "            \"type\": \"group\",\n",
            "            \"isLocked\": false,\n",
            "            \"lastActivity\": \"2022-04-22T15:31:56.644Z\",\n",
            "            \"creatorId\": \"Y2lzY29zcGFyazovL3VzL1BFT1BMRS8xZjA0ZDUyNi1mYTc0LTQ2NWEtYjAzMC02YWJhYjU2ZGFjNWU\",\n",
            "            \"created\": \"2022-04-22T15:20:48.159Z\",\n",
            "            \"ownerId\": \"Y2lzY29zcGFyazovL3VzL09SR0FOSVpBVElPTi8yMDUxOTVlMy02MmU0LTQ4ZmMtODQwYi1jZGI2MTE3MzE1YjQ\"\n",
            "        },\n",
            "        {\n",
            "            \"id\": \"Y2lzY29zcGFyazovL3VybjpURUFNOmV1LWNlbnRyYWwtMV9rL1JPT00vYzY3ZmM1MzAtYzI0Zi0xMWVjLTliNDMtMjdiMWIxYjg1ZTY3\",\n",
            "            \"title\": \"Sala Prueba\",\n",
            "            \"type\": \"group\",\n",
            "            \"isLocked\": false,\n",
            "            \"lastActivity\": \"2022-04-22T15:22:08.851Z\",\n",
            "            \"creatorId\": \"Y2lzY29zcGFyazovL3VzL1BFT1BMRS8xYmMyNDFhNi0zN2EyLTQ1N2MtYjNlZi01ZWVhYTk3MjcyNjc\",\n",
            "            \"created\": \"2022-04-22T15:20:43.011Z\",\n",
            "            \"ownerId\": \"Y2lzY29zcGFyazovL3VzL09SR0FOSVpBVElPTi9kMTgyMzRmOC04MDhmLTQ3YzAtODZkMC04YzIyZjJhMDQ3ZjA\"\n",
            "        },\n",
            "        {\n",
            "            \"id\": \"Y2lzY29zcGFyazovL3VybjpURUFNOmV1LWNlbnRyYWwtMV9rL1JPT00vNjkyZGZmZjAtYzI0Zi0xMWVjLWJhYjItNWJjZTYzMjZlOWQz\",\n",
            "            \"title\": \"Antonio Llamas Garc\\u00eda\",\n",
            "            \"type\": \"direct\",\n",
            "            \"isLocked\": false,\n",
            "            \"lastActivity\": \"2022-04-22T15:18:06.447Z\",\n",
            "            \"creatorId\": \"Y2lzY29zcGFyazovL3VzL1BFT1BMRS9kOGQ0MDI3MC1jYjljLTQwMTMtYjY3MS05YWM5MzNiMGQyZDg\",\n",
            "            \"created\": \"2022-04-22T15:18:06.447Z\",\n",
            "            \"ownerId\": \"Y2lzY29zcGFyazovL3VzL09SR0FOSVpBVElPTi8yMDUxOTVlMy02MmU0LTQ4ZmMtODQwYi1jZGI2MTE3MzE1YjQ\"\n",
            "        },\n",
            "        {\n",
            "            \"id\": \"Y2lzY29zcGFyazovL3VybjpURUFNOmV1LWNlbnRyYWwtMV9rL1JPT00vNTNjMjI0YzAtYzI0Zi0xMWVjLWEzMmYtMmZlNDExNGM5NjM2\",\n",
            "            \"title\": \"Valent\\u00edn\",\n",
            "            \"type\": \"direct\",\n",
            "            \"isLocked\": false,\n",
            "            \"lastActivity\": \"2022-04-22T15:17:30.508Z\",\n",
            "            \"creatorId\": \"Y2lzY29zcGFyazovL3VzL1BFT1BMRS8xODQ4NWIyYy01MjBkLTQ3NmQtYjAyZS02NTk0OWY1MzhmZTU\",\n",
            "            \"created\": \"2022-04-22T15:17:30.508Z\"\n",
            "        },\n",
            "        {\n",
            "            \"id\": \"Y2lzY29zcGFyazovL3VybjpURUFNOmV1LWNlbnRyYWwtMV9rL1JPT00vNDdlMTVmNDAtYzI0Zi0xMWVjLWFjNDQtZTk1MGE1NDNkNmMx\",\n",
            "            \"title\": \"i72gogia@uco.es\",\n",
            "            \"type\": \"direct\",\n",
            "            \"isLocked\": false,\n",
            "            \"lastActivity\": \"2022-04-22T15:18:21.209Z\",\n",
            "            \"creatorId\": \"Y2lzY29zcGFyazovL3VzL1BFT1BMRS9kOGQ0MDI3MC1jYjljLTQwMTMtYjY3MS05YWM5MzNiMGQyZDg\",\n",
            "            \"created\": \"2022-04-22T15:17:10.580Z\"\n",
            "        },\n",
            "        {\n",
            "            \"id\": \"Y2lzY29zcGFyazovL3VybjpURUFNOmV1LWNlbnRyYWwtMV9rL1JPT00vMGVlY2Q2MTAtYzI0Zi0xMWVjLWFjNDQtZTk1MGE1NDNkNmMx\",\n",
            "            \"title\": \"Rafael Hormigo\",\n",
            "            \"type\": \"direct\",\n",
            "            \"isLocked\": false,\n",
            "            \"lastActivity\": \"2022-04-22T15:16:57.751Z\",\n",
            "            \"creatorId\": \"Y2lzY29zcGFyazovL3VzL1BFT1BMRS9kOGQ0MDI3MC1jYjljLTQwMTMtYjY3MS05YWM5MzNiMGQyZDg\",\n",
            "            \"created\": \"2022-04-22T15:15:35.025Z\"\n",
            "        },\n",
            "        {\n",
            "            \"id\": \"Y2lzY29zcGFyazovL3VybjpURUFNOmV1LWNlbnRyYWwtMV9rL1JPT00vNWMwZTM2NTAtYzI0NS0xMWVjLWE3NDUtNDkzZDI4MzMzNDEx\",\n",
            "            \"title\": \"Espacio de bienvenida\",\n",
            "            \"type\": \"group\",\n",
            "            \"isLocked\": false,\n",
            "            \"lastActivity\": \"2022-04-22T14:06:09.884Z\",\n",
            "            \"creatorId\": \"Y2lzY29zcGFyazovL3VzL1BFT1BMRS9kOGQ0MDI3MC1jYjljLTQwMTMtYjY3MS05YWM5MzNiMGQyZDg\",\n",
            "            \"created\": \"2022-04-22T14:06:09.461Z\",\n",
            "            \"ownerId\": \"Y2lzY29zcGFyazovL3VzL09SR0FOSVpBVElPTi8yMDUxOTVlMy02MmU0LTQ4ZmMtODQwYi1jZGI2MTE3MzE1YjQ\"\n",
            "        }\n",
            "    ]\n",
            "}\n"
          ]
        }
      ],
      "source": [
        "jsonData = resp.json()\n",
        "\n",
        "print(\n",
        "    json.dumps(\n",
        "        jsonData,\n",
        "        indent=4\n",
        "    )\n",
        ")"
      ]
    },
    {
      "cell_type": "markdown",
      "metadata": {
        "id": "Fg9jB4y5lUNO"
      },
      "source": [
        "Displays a list of rooms.\n",
        "\n",
        "If you want to see additional key/value pairs such as roomID:\n",
        "print (\"Room name: '\" + room[\"title\"] + \"' room ID: \" + room[\"id\"])"
      ]
    },
    {
      "cell_type": "code",
      "execution_count": 31,
      "metadata": {
        "id": "HueZAmyQlbAV"
      },
      "outputs": [
        {
          "name": "stdout",
          "output_type": "stream",
          "text": [
            "List of rooms:\n",
            "Prueba_Creacion\n",
            "CCNA3_IZRA\n",
            "CNNA3\n",
            "TekeTeka\n",
            "Sala Prueba\n",
            "Antonio Llamas García\n",
            "Valentín\n",
            "i72gogia@uco.es\n",
            "Rafael Hormigo\n",
            "Espacio de bienvenida\n"
          ]
        }
      ],
      "source": [
        "print(\"List of rooms:\")\n",
        "rooms = resp.json()[\"items\"]\n",
        "for room in rooms:\n",
        "    print (room[\"title\"])"
      ]
    },
    {
      "cell_type": "markdown",
      "metadata": {
        "id": "Ail747eelbmR"
      },
      "source": [
        "Searches for name of the room and displays the room"
      ]
    },
    {
      "cell_type": "code",
      "execution_count": 32,
      "metadata": {
        "id": "SDez6xoTldGj"
      },
      "outputs": [
        {
          "name": "stdout",
          "output_type": "stream",
          "text": [
            "Found rooms with the word CCNA3_IZRA\n",
            "CCNA3_IZRA\n",
            "Found room : CCNA3_IZRA\n"
          ]
        }
      ],
      "source": [
        "while True:\n",
        "    # Input the name of the room to be searched \n",
        "    roomNameToSearch = input(\"Which room are you looking for? (Can use partial name of the room.) \")\n",
        "\n",
        "    # Defines a variable that will hold the roomId \n",
        "    roomIdToGetMessages = None\n",
        "    \n",
        "    for room in rooms:\n",
        "        # Searches for the room \"title\" using the variable roomNameToSearch \n",
        "        if(room[\"title\"].find(roomNameToSearch) != -1):\n",
        "\n",
        "            # Displays the rooms found using the variable roomNameToSearch (additional options included)\n",
        "            print (\"Found rooms with the word \" + roomNameToSearch)\n",
        "            print(room[\"title\"])\n",
        "\n",
        "            # Stores room id and room title into variables\n",
        "            roomIdToGetMessages = room[\"id\"]\n",
        "            roomTitleToGetMessages = room[\"title\"]\n",
        "            print(\"Found room : \" + roomTitleToGetMessages)\n",
        "            break\n",
        "\n",
        "    if(roomIdToGetMessages == None):\n",
        "        print(\"Sorry, I didn't find any room with \" + roomNameToSearch + \" in it.\")\n",
        "        print(\"Please try again...\")\n",
        "    else:\n",
        "        break\n"
      ]
    },
    {
      "cell_type": "markdown",
      "metadata": {
        "id": "jJiD7Q9Xlf6L"
      },
      "source": [
        "Define the mandatory or optional GET parameters for the `messages` API endpoint max is the number of messages to be displayed"
      ]
    },
    {
      "cell_type": "code",
      "execution_count": 33,
      "metadata": {
        "id": "vZ7YbYbOljvK"
      },
      "outputs": [],
      "source": [
        "getMessagesUrlParameters = {\n",
        "            # mandatory parameter - the room ID\n",
        "            \"roomId\": roomIdToGetMessages,\n",
        "            # optional parameter - number of the last messages to return\n",
        "            \"max\": 50\n",
        "}"
      ]
    },
    {
      "cell_type": "markdown",
      "metadata": {
        "id": "9YlhXflkllSf"
      },
      "source": [
        "Using the requests library, create a new HTTP GET Request against the Webex Teams API Endpoint for Webex Teams Messages. The local object \"r\" will hold the returned data.\n"
      ]
    },
    {
      "cell_type": "code",
      "execution_count": 34,
      "metadata": {
        "id": "0HczrFzbln0Q"
      },
      "outputs": [],
      "source": [
        "resp = requests.get(   \"https://api.ciscospark.com/v1/messages\",\n",
        "                    params = getMessagesUrlParameters,\n",
        "                    headers = {\"Authorization\": accessToken}\n",
        "                )\n",
        "\n",
        "if not resp.status_code == 200:\n",
        "    raise Exception(\"Incorrect reply from Webex Teams API. Status code: {}. Text: {}\".format(resp.status_code, resp.text))"
      ]
    },
    {
      "cell_type": "markdown",
      "metadata": {
        "id": "b7uBcvDzlppQ"
      },
      "source": [
        "Data is converted to JSON format and held in jsonData"
      ]
    },
    {
      "cell_type": "code",
      "execution_count": 35,
      "metadata": {
        "id": "DJEdNololriM"
      },
      "outputs": [],
      "source": [
        "jsonData = resp.json()"
      ]
    },
    {
      "cell_type": "markdown",
      "metadata": {
        "id": "w6nOF5otlvSZ"
      },
      "source": [
        "To see what is in the JSON data"
      ]
    },
    {
      "cell_type": "code",
      "execution_count": 36,
      "metadata": {
        "id": "cJZVxNWIlxU7"
      },
      "outputs": [
        {
          "name": "stdout",
          "output_type": "stream",
          "text": [
            "{\n",
            "    \"items\": [\n",
            "        {\n",
            "            \"id\": \"Y2lzY29zcGFyazovL3VybjpURUFNOmV1LWNlbnRyYWwtMV9rL01FU1NBR0UvMDU5MjA1ZTAtYzI1NC0xMWVjLWE3NDUtNDkzZDI4MzMzNDEx\",\n",
            "            \"roomId\": \"Y2lzY29zcGFyazovL3VybjpURUFNOmV1LWNlbnRyYWwtMV9rL1JPT00vY2I0MTZiZjAtYzI0Zi0xMWVjLThmZmMtNWQyMmJlNDIyOTUx\",\n",
            "            \"roomType\": \"group\",\n",
            "            \"text\": \"Chapas mucho\",\n",
            "            \"personId\": \"Y2lzY29zcGFyazovL3VzL1BFT1BMRS8xODQ4NWIyYy01MjBkLTQ3NmQtYjAyZS02NTk0OWY1MzhmZTU\",\n",
            "            \"personEmail\": \"p92avavv@uco.es\",\n",
            "            \"created\": \"2022-04-22T15:51:06.814Z\"\n",
            "        },\n",
            "        {\n",
            "            \"id\": \"Y2lzY29zcGFyazovL3VybjpURUFNOmV1LWNlbnRyYWwtMV9rL01FU1NBR0UvZmZiYzMwMDAtYzI1My0xMWVjLTlhMzgtMjdhY2QzZjNiMzJi\",\n",
            "            \"roomId\": \"Y2lzY29zcGFyazovL3VybjpURUFNOmV1LWNlbnRyYWwtMV9rL1JPT00vY2I0MTZiZjAtYzI0Zi0xMWVjLThmZmMtNWQyMmJlNDIyOTUx\",\n",
            "            \"roomType\": \"group\",\n",
            "            \"text\": \"hola\",\n",
            "            \"personId\": \"Y2lzY29zcGFyazovL3VzL1BFT1BMRS9kOGQ0MDI3MC1jYjljLTQwMTMtYjY3MS05YWM5MzNiMGQyZDg\",\n",
            "            \"personEmail\": \"p82izraj@uco.es\",\n",
            "            \"created\": \"2022-04-22T15:50:57.024Z\"\n",
            "        },\n",
            "        {\n",
            "            \"id\": \"Y2lzY29zcGFyazovL3VybjpURUFNOmV1LWNlbnRyYWwtMV9rL01FU1NBR0UvZmY0NTJiNDAtYzI1My0xMWVjLWEzMmYtMmZlNDExNGM5NjM2\",\n",
            "            \"roomId\": \"Y2lzY29zcGFyazovL3VybjpURUFNOmV1LWNlbnRyYWwtMV9rL1JPT00vY2I0MTZiZjAtYzI0Zi0xMWVjLThmZmMtNWQyMmJlNDIyOTUx\",\n",
            "            \"roomType\": \"group\",\n",
            "            \"text\": \"hola\",\n",
            "            \"personId\": \"Y2lzY29zcGFyazovL3VzL1BFT1BMRS9kOGQ0MDI3MC1jYjljLTQwMTMtYjY3MS05YWM5MzNiMGQyZDg\",\n",
            "            \"personEmail\": \"p82izraj@uco.es\",\n",
            "            \"created\": \"2022-04-22T15:50:56.244Z\"\n",
            "        },\n",
            "        {\n",
            "            \"id\": \"Y2lzY29zcGFyazovL3VybjpURUFNOmV1LWNlbnRyYWwtMV9rL01FU1NBR0UvZmViODA2NzAtYzI1My0xMWVjLWJhYjItNWJjZTYzMjZlOWQz\",\n",
            "            \"roomId\": \"Y2lzY29zcGFyazovL3VybjpURUFNOmV1LWNlbnRyYWwtMV9rL1JPT00vY2I0MTZiZjAtYzI0Zi0xMWVjLThmZmMtNWQyMmJlNDIyOTUx\",\n",
            "            \"roomType\": \"group\",\n",
            "            \"text\": \"hola\",\n",
            "            \"personId\": \"Y2lzY29zcGFyazovL3VzL1BFT1BMRS9kOGQ0MDI3MC1jYjljLTQwMTMtYjY3MS05YWM5MzNiMGQyZDg\",\n",
            "            \"personEmail\": \"p82izraj@uco.es\",\n",
            "            \"created\": \"2022-04-22T15:50:55.319Z\"\n",
            "        },\n",
            "        {\n",
            "            \"id\": \"Y2lzY29zcGFyazovL3VybjpURUFNOmV1LWNlbnRyYWwtMV9rL01FU1NBR0UvZmUzMjViYjAtYzI1My0xMWVjLWEzMmYtMmZlNDExNGM5NjM2\",\n",
            "            \"roomId\": \"Y2lzY29zcGFyazovL3VybjpURUFNOmV1LWNlbnRyYWwtMV9rL1JPT00vY2I0MTZiZjAtYzI0Zi0xMWVjLThmZmMtNWQyMmJlNDIyOTUx\",\n",
            "            \"roomType\": \"group\",\n",
            "            \"text\": \"hola\",\n",
            "            \"personId\": \"Y2lzY29zcGFyazovL3VzL1BFT1BMRS9kOGQ0MDI3MC1jYjljLTQwMTMtYjY3MS05YWM5MzNiMGQyZDg\",\n",
            "            \"personEmail\": \"p82izraj@uco.es\",\n",
            "            \"created\": \"2022-04-22T15:50:54.443Z\"\n",
            "        },\n",
            "        {\n",
            "            \"id\": \"Y2lzY29zcGFyazovL3VybjpURUFNOmV1LWNlbnRyYWwtMV9rL01FU1NBR0UvZmRiNzg2NjAtYzI1My0xMWVjLWFlMGEtMDE1MDAzM2M1NjI4\",\n",
            "            \"roomId\": \"Y2lzY29zcGFyazovL3VybjpURUFNOmV1LWNlbnRyYWwtMV9rL1JPT00vY2I0MTZiZjAtYzI0Zi0xMWVjLThmZmMtNWQyMmJlNDIyOTUx\",\n",
            "            \"roomType\": \"group\",\n",
            "            \"text\": \"hola\",\n",
            "            \"personId\": \"Y2lzY29zcGFyazovL3VzL1BFT1BMRS9kOGQ0MDI3MC1jYjljLTQwMTMtYjY3MS05YWM5MzNiMGQyZDg\",\n",
            "            \"personEmail\": \"p82izraj@uco.es\",\n",
            "            \"created\": \"2022-04-22T15:50:53.638Z\"\n",
            "        },\n",
            "        {\n",
            "            \"id\": \"Y2lzY29zcGFyazovL3VybjpURUFNOmV1LWNlbnRyYWwtMV9rL01FU1NBR0UvMWY2ZmI2ZjAtYzI1MC0xMWVjLTkxNDAtY2ZmNTI4NDliMjlk\",\n",
            "            \"roomId\": \"Y2lzY29zcGFyazovL3VybjpURUFNOmV1LWNlbnRyYWwtMV9rL1JPT00vY2I0MTZiZjAtYzI0Zi0xMWVjLThmZmMtNWQyMmJlNDIyOTUx\",\n",
            "            \"roomType\": \"group\",\n",
            "            \"text\": \"eeeee\",\n",
            "            \"personId\": \"Y2lzY29zcGFyazovL3VzL1BFT1BMRS8xZjA0ZDUyNi1mYTc0LTQ2NWEtYjAzMC02YWJhYjU2ZGFjNWU\",\n",
            "            \"personEmail\": \"i92llgaa@uco.es\",\n",
            "            \"created\": \"2022-04-22T15:23:12.223Z\"\n",
            "        },\n",
            "        {\n",
            "            \"id\": \"Y2lzY29zcGFyazovL3VybjpURUFNOmV1LWNlbnRyYWwtMV9rL01FU1NBR0UvMDg1NGE1MjAtYzI1MC0xMWVjLThhODMtODM1MWE5Zjc1Y2E1\",\n",
            "            \"roomId\": \"Y2lzY29zcGFyazovL3VybjpURUFNOmV1LWNlbnRyYWwtMV9rL1JPT00vY2I0MTZiZjAtYzI0Zi0xMWVjLThmZmMtNWQyMmJlNDIyOTUx\",\n",
            "            \"roomType\": \"group\",\n",
            "            \"text\": \"xd\",\n",
            "            \"personId\": \"Y2lzY29zcGFyazovL3VzL1BFT1BMRS9jOTIyZTNmOC04ZGVkLTRlNmUtYTVhNC0xNDlmNWQ4ZDM0ZGU\",\n",
            "            \"personEmail\": \"i72hocar@uco.es\",\n",
            "            \"created\": \"2022-04-22T15:22:33.458Z\"\n",
            "        },\n",
            "        {\n",
            "            \"id\": \"Y2lzY29zcGFyazovL3VybjpURUFNOmV1LWNlbnRyYWwtMV9rL01FU1NBR0UvMDcxYTc3NzAtYzI1MC0xMWVjLThmZmMtNWQyMmJlNDIyOTUx\",\n",
            "            \"roomId\": \"Y2lzY29zcGFyazovL3VybjpURUFNOmV1LWNlbnRyYWwtMV9rL1JPT00vY2I0MTZiZjAtYzI0Zi0xMWVjLThmZmMtNWQyMmJlNDIyOTUx\",\n",
            "            \"roomType\": \"group\",\n",
            "            \"text\": \"hola que tal\",\n",
            "            \"personId\": \"Y2lzY29zcGFyazovL3VzL1BFT1BMRS9jOTIyZTNmOC04ZGVkLTRlNmUtYTVhNC0xNDlmNWQ4ZDM0ZGU\",\n",
            "            \"personEmail\": \"i72hocar@uco.es\",\n",
            "            \"created\": \"2022-04-22T15:22:31.399Z\"\n",
            "        },\n",
            "        {\n",
            "            \"id\": \"Y2lzY29zcGFyazovL3VybjpURUFNOmV1LWNlbnRyYWwtMV9rL01FU1NBR0UvMDUxMGM0YzAtYzI1MC0xMWVjLWE2ZWEtZDNkOWNiZGM3YmU4\",\n",
            "            \"roomId\": \"Y2lzY29zcGFyazovL3VybjpURUFNOmV1LWNlbnRyYWwtMV9rL1JPT00vY2I0MTZiZjAtYzI0Zi0xMWVjLThmZmMtNWQyMmJlNDIyOTUx\",\n",
            "            \"roomType\": \"group\",\n",
            "            \"text\": \"Faltan mensajes\",\n",
            "            \"personId\": \"Y2lzY29zcGFyazovL3VzL1BFT1BMRS8xYmMyNDFhNi0zN2EyLTQ1N2MtYjNlZi01ZWVhYTk3MjcyNjc\",\n",
            "            \"personEmail\": \"i72gogia@uco.es\",\n",
            "            \"created\": \"2022-04-22T15:22:27.980Z\"\n",
            "        }\n",
            "    ]\n",
            "}\n"
          ]
        }
      ],
      "source": [
        "print(\n",
        "    json.dumps(\n",
        "        jsonData,\n",
        "        indent=4\n",
        "    )\n",
        ")"
      ]
    },
    {
      "cell_type": "markdown",
      "metadata": {
        "id": "gL4_tVAflz-d"
      },
      "source": [
        "Add a message counter and initialize the variable to 0\n",
        "- If messages were found, display the number of messages found using this criteria\n",
        "- Else display a message stating no messages were found using these criteria.\n",
        "\n",
        "Search for message text and display:\n",
        "- Message text\n",
        "\n",
        "Add the following information regarding for each message:\n",
        "- From (email) \n",
        "- Date/time message created"
      ]
    },
    {
      "cell_type": "code",
      "execution_count": 37,
      "metadata": {
        "id": "ftLtZwe6l7uo"
      },
      "outputs": [
        {
          "name": "stdout",
          "output_type": "stream",
          "text": [
            "Found a message with: hola\n",
            "Message: hola\n",
            "Email: p82izraj@uco.es\n",
            "Date/time: 2022-04-22T15:50:57.024Z\n",
            "\n",
            "Found a message with: hola\n",
            "Message: hola\n",
            "Email: p82izraj@uco.es\n",
            "Date/time: 2022-04-22T15:50:56.244Z\n",
            "\n",
            "Found a message with: hola\n",
            "Message: hola\n",
            "Email: p82izraj@uco.es\n",
            "Date/time: 2022-04-22T15:50:55.319Z\n",
            "\n",
            "Found a message with: hola\n",
            "Message: hola\n",
            "Email: p82izraj@uco.es\n",
            "Date/time: 2022-04-22T15:50:54.443Z\n",
            "\n",
            "Found a message with: hola\n",
            "Message: hola\n",
            "Email: p82izraj@uco.es\n",
            "Date/time: 2022-04-22T15:50:53.638Z\n",
            "\n",
            "Found a message with: hola\n",
            "Message: hola que tal\n",
            "Email: i72hocar@uco.es\n",
            "Date/time: 2022-04-22T15:22:31.399Z\n",
            "\n"
          ]
        }
      ],
      "source": [
        "messages = jsonData[\"items\"]\n",
        "messageText = input(\"What text are you searching for? \")\n",
        "# Exercise 3a: Following this comment, create a variable for a message counter\n",
        "# and initialize it to 0.\n",
        "#<!!!REPLACEME with a messageCounter variable set to 0 !!!>\n",
        "messageCounter = 0\n",
        "\n",
        "for message in messages:\n",
        "    if message[\"text\"].find(messageText) != -1:\n",
        "        # Exercise 3b: Following this comment, increment message counter variable by 1\n",
        "        #<!!!REPLACEME with incrementing the messageCounter by one!!!>\n",
        "        messageCounter += 1\n",
        "        \n",
        "        messageId = message[\"id\"]\n",
        "        print(\"Found a message with: \" + messageText)\n",
        "        print(\"Message: \" + message[\"text\"])\n",
        "        # Exercise #4: Following this comment, display email address of the message \n",
        "        # creator and the date/time the message was created\n",
        "        print(\"Email: \" + message[\"personEmail\"])\n",
        "        print(\"Date/time: \" + message[\"created\"])\n",
        "        print()\n",
        "  "
      ]
    },
    {
      "cell_type": "markdown",
      "metadata": {
        "id": "Of00xkd7Cybr"
      },
      "source": [
        "**Exercise 5**:\n",
        "Following these comments: \n",
        "Add if-else statements to display message counter information\n",
        "- If no messages were found using this criteria (if messageCounter is 0) display a message that informs the uses of this\n",
        "- Else display a message with the number of messages found (messageCounter) using this criteria\n"
      ]
    },
    {
      "cell_type": "code",
      "execution_count": 38,
      "metadata": {
        "id": "Mt15k5j6CzA1"
      },
      "outputs": [
        {
          "name": "stdout",
          "output_type": "stream",
          "text": [
            "Se ha encontrado el mensaje 6 veces\n",
            "Thank you for using this program and think API + Python!\n"
          ]
        }
      ],
      "source": [
        "#<!!!REPLACEME with if statements checking for messageCounter value!!!>\n",
        "#    <!!!REPLACEME with print function printing the number of found messages!!!>\n",
        "if messageCounter == 0:\n",
        "    print(\"No se ha encontrado el mensaje.\")\n",
        "else:\n",
        "    print(f\"Se ha encontrado el mensaje {messageCounter} veces\")\n",
        "\n",
        "\n",
        "print(\"Thank you for using this program and think API + Python!\")\n"
      ]
    }
  ],
  "metadata": {
    "colab": {
      "collapsed_sections": [],
      "name": "Buscar-mensajes.ipynb",
      "provenance": []
    },
    "kernelspec": {
      "display_name": "Python 3.8.10 64-bit (microsoft store)",
      "language": "python",
      "name": "python3"
    },
    "language_info": {
      "codemirror_mode": {
        "name": "ipython",
        "version": 3
      },
      "file_extension": ".py",
      "mimetype": "text/x-python",
      "name": "python",
      "nbconvert_exporter": "python",
      "pygments_lexer": "ipython3",
      "version": "3.8.10"
    },
    "vscode": {
      "interpreter": {
        "hash": "c85cc760b60e9a7bc7f14a026c0b6e827850110f81d5bb7cd18566f98e99e23e"
      }
    }
  },
  "nbformat": 4,
  "nbformat_minor": 0
}
