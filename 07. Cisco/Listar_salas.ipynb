{
  "cells": [
    {
      "cell_type": "code",
      "execution_count": 35,
      "metadata": {
        "id": "wyx2VFqWHTe7"
      },
      "outputs": [
        {
          "name": "stdout",
          "output_type": "stream",
          "text": [
            "Requirement already satisfied: requests in c:\\users\\jmanu\\appdata\\local\\programs\\python\\python310\\lib\\site-packages (2.27.1)\n",
            "Requirement already satisfied: idna<4,>=2.5 in c:\\users\\jmanu\\appdata\\local\\programs\\python\\python310\\lib\\site-packages (from requests) (3.3)\n",
            "Requirement already satisfied: charset-normalizer~=2.0.0 in c:\\users\\jmanu\\appdata\\local\\programs\\python\\python310\\lib\\site-packages (from requests) (2.0.12)\n",
            "Requirement already satisfied: certifi>=2017.4.17 in c:\\users\\jmanu\\appdata\\local\\programs\\python\\python310\\lib\\site-packages (from requests) (2021.10.8)\n",
            "Requirement already satisfied: urllib3<1.27,>=1.21.1 in c:\\users\\jmanu\\appdata\\local\\programs\\python\\python310\\lib\\site-packages (from requests) (1.26.9)\n",
            "Note: you may need to restart the kernel to use updated packages.\n"
          ]
        }
      ],
      "source": [
        "pip install requests"
      ]
    },
    {
      "cell_type": "markdown",
      "metadata": {
        "id": "pRUUdYsUMBtg"
      },
      "source": [
        " This program:\n",
        " 1. Asks the user for their access token or to use the hard coded access token\n",
        " 2. Provides the information for a list of Webex Teams rooms using the JSON format\n",
        "\n",
        "\n",
        "The student will:\n",
        "1. Provide the code to prompt the user for their access token else\n",
        "    use the hard coded access token\n",
        "2. Enter the Webex Teams room API endpoint (URL)\n"
      ]
    },
    {
      "cell_type": "markdown",
      "metadata": {
        "id": "4bsHnmd5ibRZ"
      },
      "source": [
        "Step 1. Import **libraries**"
      ]
    },
    {
      "cell_type": "code",
      "execution_count": 36,
      "metadata": {
        "id": "U1vfPR3KMD8D"
      },
      "outputs": [],
      "source": [
        "# import requests library\n",
        "import requests\n",
        "\n",
        "#import json library\n",
        "import json"
      ]
    },
    {
      "cell_type": "markdown",
      "metadata": {
        "id": "9ovRDBoFMTJe"
      },
      "source": [
        "Ask the user to use either the hard coded token (access token within the code) or for the user to input their access token.\n",
        "Assign the hard coded or user entered access token to the variable accessToken.\n"
      ]
    },
    {
      "cell_type": "markdown",
      "metadata": {
        "id": "MAmqW9a1MZyQ"
      },
      "source": [
        "\n",
        "**Exercise 1.**\n",
        "Following this comment and using the accessToken variable below, modify the code to ask the user to use either hard-coded or user-entered access token.\n",
        "\n",
        "\n"
      ]
    },
    {
      "cell_type": "code",
      "execution_count": 37,
      "metadata": {
        "id": "hTXYx4CZMWQH"
      },
      "outputs": [
        {
          "data": {
            "text/plain": [
              "'Bearer ZjI1MDkxYzYtMjQwMC00YTVmLWFkODEtMzdiYzcxMmQ2Mjk2M2VlOTNiMDAtOTA0_PE93_205195e3-62e4-48fc-840b-cdb6117315b4'"
            ]
          },
          "execution_count": 37,
          "metadata": {},
          "output_type": "execute_result"
        }
      ],
      "source": [
        "#<!!!REPLACEME with code to ask user for the Webex Teams Access Token or use a hardcoded one!!!>\n",
        "\n",
        "choice = input(\"Do you wish to use the hard coded token? (Y/N)\").upper()\n",
        "\n",
        "if choice == \"N\":\n",
        "    accessToken = input(\"Enter your access token: \")\n",
        "    accessToken = \"Bearer \" + accessToken\n",
        "else:\n",
        "    accessToken = ${{ secrets.CISCO_API }}\n",
        "\n",
        "accessToken"
      ]
    },
    {
      "cell_type": "markdown",
      "metadata": {
        "id": "cQo8m46BMi7h"
      },
      "source": [
        "Build request components, URI and header with bearer token.\n",
        "\n",
        "**Exercise 2.** Following this comment, modify the code below to use the Webex Teams room API endpoint (URL)"
      ]
    },
    {
      "cell_type": "code",
      "execution_count": 38,
      "metadata": {
        "id": "0dcdIffrMlOt"
      },
      "outputs": [],
      "source": [
        "apiUri = \"https://webexapis.com/v1/rooms\"\n"
      ]
    },
    {
      "cell_type": "markdown",
      "metadata": {
        "id": "opg5i5HAjTwW"
      },
      "source": [
        "Make request and convert response JSON to Python object"
      ]
    },
    {
      "cell_type": "code",
      "execution_count": 39,
      "metadata": {
        "id": "MfHKhwGBjQ82"
      },
      "outputs": [],
      "source": [
        "# Make request and store result in resp \n",
        "resp = requests.get( apiUri, \n",
        "                     headers = {\"Authorization\":accessToken}\n",
        "                   ) \n",
        "# Check if the API request executed correctly with the HTTP status code == 200\n",
        "if not resp.status_code == 200:\n",
        "    raise Exception(\"Incorrect reply from Webex Teams API. Status code: {}. Text: {}\".format(resp.status_code, resp.text))\n",
        "\n",
        "json_data = resp.json() # convert the JSON response to Python dictionary object\n"
      ]
    },
    {
      "cell_type": "markdown",
      "metadata": {
        "id": "3tvyPSuJjeQH"
      },
      "source": [
        "Format and Output response data with string that identifies output"
      ]
    },
    {
      "cell_type": "code",
      "execution_count": 40,
      "metadata": {
        "id": "8zL4Q0PejhW6"
      },
      "outputs": [
        {
          "name": "stdout",
          "output_type": "stream",
          "text": [
            "Webex Teams Response Data:\n",
            "{\n",
            "    \"items\": [\n",
            "        {\n",
            "            \"id\": \"Y2lzY29zcGFyazovL3VybjpURUFNOmV1LWNlbnRyYWwtMV9rL1JPT00vMGFmMjNkZjAtYzI1MS0xMWVjLWEyZmUtYTFlNjYwMWQyZThj\",\n",
            "            \"title\": \"Prueba_Creacion\",\n",
            "            \"type\": \"group\",\n",
            "            \"isLocked\": false,\n",
            "            \"lastActivity\": \"2022-04-22T15:29:47.343Z\",\n",
            "            \"creatorId\": \"Y2lzY29zcGFyazovL3VzL1BFT1BMRS9kOGQ0MDI3MC1jYjljLTQwMTMtYjY3MS05YWM5MzNiMGQyZDg\",\n",
            "            \"created\": \"2022-04-22T15:29:47.343Z\",\n",
            "            \"ownerId\": \"Y2lzY29zcGFyazovL3VzL09SR0FOSVpBVElPTi8yMDUxOTVlMy02MmU0LTQ4ZmMtODQwYi1jZGI2MTE3MzE1YjQ\"\n",
            "        },\n",
            "        {\n",
            "            \"id\": \"Y2lzY29zcGFyazovL3VybjpURUFNOmV1LWNlbnRyYWwtMV9rL1JPT00vY2I0MTZiZjAtYzI0Zi0xMWVjLThmZmMtNWQyMmJlNDIyOTUx\",\n",
            "            \"title\": \"CCNA3_IZRA\",\n",
            "            \"type\": \"group\",\n",
            "            \"isLocked\": false,\n",
            "            \"lastActivity\": \"2022-04-22T15:51:06.814Z\",\n",
            "            \"creatorId\": \"Y2lzY29zcGFyazovL3VzL1BFT1BMRS9kOGQ0MDI3MC1jYjljLTQwMTMtYjY3MS05YWM5MzNiMGQyZDg\",\n",
            "            \"created\": \"2022-04-22T15:20:50.991Z\",\n",
            "            \"ownerId\": \"Y2lzY29zcGFyazovL3VzL09SR0FOSVpBVElPTi8yMDUxOTVlMy02MmU0LTQ4ZmMtODQwYi1jZGI2MTE3MzE1YjQ\"\n",
            "        },\n",
            "        {\n",
            "            \"id\": \"Y2lzY29zcGFyazovL3VybjpURUFNOmV1LWNlbnRyYWwtMV9rL1JPT00vY2E1MjAyZTAtYzI0Zi0xMWVjLThmZmMtNWQyMmJlNDIyOTUx\",\n",
            "            \"title\": \"CNNA3\",\n",
            "            \"type\": \"group\",\n",
            "            \"isLocked\": false,\n",
            "            \"lastActivity\": \"2022-04-22T15:22:14.493Z\",\n",
            "            \"creatorId\": \"Y2lzY29zcGFyazovL3VzL1BFT1BMRS9jOTIyZTNmOC04ZGVkLTRlNmUtYTVhNC0xNDlmNWQ4ZDM0ZGU\",\n",
            "            \"created\": \"2022-04-22T15:20:49.422Z\",\n",
            "            \"ownerId\": \"Y2lzY29zcGFyazovL3VzL09SR0FOSVpBVElPTi8zM2Q2OWY3NC1hOWM5LTQxYmUtODBiYS03ZmJjYTVjYmVkYzg\"\n",
            "        },\n",
            "        {\n",
            "            \"id\": \"Y2lzY29zcGFyazovL3VybjpURUFNOmV1LWNlbnRyYWwtMV9rL1JPT00vYzk5MTRhZjAtYzI0Zi0xMWVjLTgyMzItOTdhY2ZlY2ZlYTFk\",\n",
            "            \"title\": \"TekeTeka\",\n",
            "            \"type\": \"group\",\n",
            "            \"isLocked\": false,\n",
            "            \"lastActivity\": \"2022-04-22T15:31:56.644Z\",\n",
            "            \"creatorId\": \"Y2lzY29zcGFyazovL3VzL1BFT1BMRS8xZjA0ZDUyNi1mYTc0LTQ2NWEtYjAzMC02YWJhYjU2ZGFjNWU\",\n",
            "            \"created\": \"2022-04-22T15:20:48.159Z\",\n",
            "            \"ownerId\": \"Y2lzY29zcGFyazovL3VzL09SR0FOSVpBVElPTi8yMDUxOTVlMy02MmU0LTQ4ZmMtODQwYi1jZGI2MTE3MzE1YjQ\"\n",
            "        },\n",
            "        {\n",
            "            \"id\": \"Y2lzY29zcGFyazovL3VybjpURUFNOmV1LWNlbnRyYWwtMV9rL1JPT00vYzY3ZmM1MzAtYzI0Zi0xMWVjLTliNDMtMjdiMWIxYjg1ZTY3\",\n",
            "            \"title\": \"Sala Prueba\",\n",
            "            \"type\": \"group\",\n",
            "            \"isLocked\": false,\n",
            "            \"lastActivity\": \"2022-04-22T15:22:08.851Z\",\n",
            "            \"creatorId\": \"Y2lzY29zcGFyazovL3VzL1BFT1BMRS8xYmMyNDFhNi0zN2EyLTQ1N2MtYjNlZi01ZWVhYTk3MjcyNjc\",\n",
            "            \"created\": \"2022-04-22T15:20:43.011Z\",\n",
            "            \"ownerId\": \"Y2lzY29zcGFyazovL3VzL09SR0FOSVpBVElPTi9kMTgyMzRmOC04MDhmLTQ3YzAtODZkMC04YzIyZjJhMDQ3ZjA\"\n",
            "        },\n",
            "        {\n",
            "            \"id\": \"Y2lzY29zcGFyazovL3VybjpURUFNOmV1LWNlbnRyYWwtMV9rL1JPT00vNjkyZGZmZjAtYzI0Zi0xMWVjLWJhYjItNWJjZTYzMjZlOWQz\",\n",
            "            \"title\": \"Antonio Llamas Garc\\u00eda\",\n",
            "            \"type\": \"direct\",\n",
            "            \"isLocked\": false,\n",
            "            \"lastActivity\": \"2022-04-22T15:18:06.447Z\",\n",
            "            \"creatorId\": \"Y2lzY29zcGFyazovL3VzL1BFT1BMRS9kOGQ0MDI3MC1jYjljLTQwMTMtYjY3MS05YWM5MzNiMGQyZDg\",\n",
            "            \"created\": \"2022-04-22T15:18:06.447Z\",\n",
            "            \"ownerId\": \"Y2lzY29zcGFyazovL3VzL09SR0FOSVpBVElPTi8yMDUxOTVlMy02MmU0LTQ4ZmMtODQwYi1jZGI2MTE3MzE1YjQ\"\n",
            "        },\n",
            "        {\n",
            "            \"id\": \"Y2lzY29zcGFyazovL3VybjpURUFNOmV1LWNlbnRyYWwtMV9rL1JPT00vNTNjMjI0YzAtYzI0Zi0xMWVjLWEzMmYtMmZlNDExNGM5NjM2\",\n",
            "            \"title\": \"Valent\\u00edn\",\n",
            "            \"type\": \"direct\",\n",
            "            \"isLocked\": false,\n",
            "            \"lastActivity\": \"2022-04-22T15:17:30.508Z\",\n",
            "            \"creatorId\": \"Y2lzY29zcGFyazovL3VzL1BFT1BMRS8xODQ4NWIyYy01MjBkLTQ3NmQtYjAyZS02NTk0OWY1MzhmZTU\",\n",
            "            \"created\": \"2022-04-22T15:17:30.508Z\"\n",
            "        },\n",
            "        {\n",
            "            \"id\": \"Y2lzY29zcGFyazovL3VybjpURUFNOmV1LWNlbnRyYWwtMV9rL1JPT00vNDdlMTVmNDAtYzI0Zi0xMWVjLWFjNDQtZTk1MGE1NDNkNmMx\",\n",
            "            \"title\": \"i72gogia@uco.es\",\n",
            "            \"type\": \"direct\",\n",
            "            \"isLocked\": false,\n",
            "            \"lastActivity\": \"2022-04-22T15:18:21.209Z\",\n",
            "            \"creatorId\": \"Y2lzY29zcGFyazovL3VzL1BFT1BMRS9kOGQ0MDI3MC1jYjljLTQwMTMtYjY3MS05YWM5MzNiMGQyZDg\",\n",
            "            \"created\": \"2022-04-22T15:17:10.580Z\"\n",
            "        },\n",
            "        {\n",
            "            \"id\": \"Y2lzY29zcGFyazovL3VybjpURUFNOmV1LWNlbnRyYWwtMV9rL1JPT00vMGVlY2Q2MTAtYzI0Zi0xMWVjLWFjNDQtZTk1MGE1NDNkNmMx\",\n",
            "            \"title\": \"Rafael Hormigo\",\n",
            "            \"type\": \"direct\",\n",
            "            \"isLocked\": false,\n",
            "            \"lastActivity\": \"2022-04-22T15:16:57.751Z\",\n",
            "            \"creatorId\": \"Y2lzY29zcGFyazovL3VzL1BFT1BMRS9kOGQ0MDI3MC1jYjljLTQwMTMtYjY3MS05YWM5MzNiMGQyZDg\",\n",
            "            \"created\": \"2022-04-22T15:15:35.025Z\"\n",
            "        },\n",
            "        {\n",
            "            \"id\": \"Y2lzY29zcGFyazovL3VybjpURUFNOmV1LWNlbnRyYWwtMV9rL1JPT00vNWMwZTM2NTAtYzI0NS0xMWVjLWE3NDUtNDkzZDI4MzMzNDEx\",\n",
            "            \"title\": \"Espacio de bienvenida\",\n",
            "            \"type\": \"group\",\n",
            "            \"isLocked\": false,\n",
            "            \"lastActivity\": \"2022-04-22T14:06:09.884Z\",\n",
            "            \"creatorId\": \"Y2lzY29zcGFyazovL3VzL1BFT1BMRS9kOGQ0MDI3MC1jYjljLTQwMTMtYjY3MS05YWM5MzNiMGQyZDg\",\n",
            "            \"created\": \"2022-04-22T14:06:09.461Z\",\n",
            "            \"ownerId\": \"Y2lzY29zcGFyazovL3VzL09SR0FOSVpBVElPTi8yMDUxOTVlMy02MmU0LTQ4ZmMtODQwYi1jZGI2MTE3MzE1YjQ\"\n",
            "        }\n",
            "    ]\n",
            "}\n"
          ]
        }
      ],
      "source": [
        "print(\"Webex Teams Response Data:\") # Print identifying string\n",
        "print( json.dumps(json_data, indent = 4) ) #format Python JSON data object and print\n"
      ]
    }
  ],
  "metadata": {
    "colab": {
      "collapsed_sections": [],
      "name": "Listar-habitaciones.ipynb",
      "provenance": []
    },
    "kernelspec": {
      "display_name": "Python 3.11.0 64-bit",
      "language": "python",
      "name": "python3"
    },
    "language_info": {
      "codemirror_mode": {
        "name": "ipython",
        "version": 3
      },
      "file_extension": ".py",
      "mimetype": "text/x-python",
      "name": "python",
      "nbconvert_exporter": "python",
      "pygments_lexer": "ipython3",
      "version": "3.11.0"
    },
    "vscode": {
      "interpreter": {
        "hash": "2a179b7ae325ef5915bcb4cb3617fbbda2c5434e797d0c4d34d6b1dc59cd135d"
      }
    }
  },
  "nbformat": 4,
  "nbformat_minor": 0
}
