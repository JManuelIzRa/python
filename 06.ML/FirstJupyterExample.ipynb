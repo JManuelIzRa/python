{
 "cells": [
  {
   "cell_type": "markdown",
   "id": "51d8e9fe",
   "metadata": {},
   "source": [
    "# My first Jupyter Example"
   ]
  },
  {
   "cell_type": "code",
   "execution_count": 1,
   "id": "2366bd0b",
   "metadata": {},
   "outputs": [
    {
     "name": "stdout",
     "output_type": "stream",
     "text": [
      "4\n"
     ]
    }
   ],
   "source": [
    "num1 = 1\n",
    "num2 = 3\n",
    "\n",
    "print(num1 + num2)"
   ]
  },
  {
   "cell_type": "markdown",
   "id": "bc513be4",
   "metadata": {},
   "source": [
    "## Para ejecutar una linea de codigo Ctrl + Intro"
   ]
  },
  {
   "cell_type": "code",
   "execution_count": 2,
   "id": "d771811c",
   "metadata": {},
   "outputs": [
    {
     "name": "stdout",
     "output_type": "stream",
     "text": [
      "1\n"
     ]
    }
   ],
   "source": [
    "print(num1)"
   ]
  }
 ],
 "metadata": {
  "kernelspec": {
   "display_name": "Python 3",
   "language": "python",
   "name": "python3"
  },
  "language_info": {
   "codemirror_mode": {
    "name": "ipython",
    "version": 3
   },
   "file_extension": ".py",
   "mimetype": "text/x-python",
   "name": "python",
   "nbconvert_exporter": "python",
   "pygments_lexer": "ipython3",
   "version": "3.8.10"
  }
 },
 "nbformat": 4,
 "nbformat_minor": 5
}
